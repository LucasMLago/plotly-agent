{
 "cells": [
  {
   "cell_type": "code",
   "execution_count": 1,
   "metadata": {},
   "outputs": [],
   "source": [
    "from dotenv import load_dotenv\n",
    "import os\n",
    "\n",
    "from langchain_openai import ChatOpenAI\n",
    "from plotly.graph_objs._figure import Figure\n",
    "\n",
    "from plotly_agent import extract_python_code\n",
    "from plotly_agent.evaluate import judge\n",
    "from plotly_agent import create_plotly_agent"
   ]
  },
  {
   "cell_type": "code",
   "execution_count": 2,
   "metadata": {},
   "outputs": [],
   "source": [
    "load_dotenv()\n",
    "OPENAI_API_KEY = os.getenv('OPENAI_API_KEY')"
   ]
  },
  {
   "cell_type": "code",
   "execution_count": 3,
   "metadata": {},
   "outputs": [
    {
     "data": {
      "text/plain": [
       "{'Title': ['The Godfather',\n",
       "  'Pulp Fiction',\n",
       "  'Inception',\n",
       "  'The Lord of the Rings: The Fellowship of the Ring',\n",
       "  'Forrest Gump'],\n",
       " 'Director': ['Francis Ford Coppola',\n",
       "  'Quentin Tarantino',\n",
       "  'Christopher Nolan',\n",
       "  'Peter Jackson',\n",
       "  'Robert Zemeckis'],\n",
       " 'Release Year': [1972, 1994, 2010, 2001, 1994],\n",
       " 'Genre': ['Drama/Crime',\n",
       "  'Crime/Drama',\n",
       "  'Science Fiction/Action',\n",
       "  'Fantasy/Adventure',\n",
       "  'Drama/Romance'],\n",
       " 'Rating': [9.2, 6.5, 8.0, 7.4, 5.3]}"
      ]
     },
     "execution_count": 3,
     "metadata": {},
     "output_type": "execute_result"
    }
   ],
   "source": [
    "data = {\n",
    "    \"Title\": [\"The Godfather\", \"Pulp Fiction\", \"Inception\", \"The Lord of the Rings: The Fellowship of the Ring\", \"Forrest Gump\"],\n",
    "    \"Director\": [\"Francis Ford Coppola\", \"Quentin Tarantino\", \"Christopher Nolan\", \"Peter Jackson\", \"Robert Zemeckis\"],\n",
    "    \"Release Year\": [1972, 1994, 2010, 2001, 1994],\n",
    "    \"Genre\": [\"Drama/Crime\", \"Crime/Drama\", \"Science Fiction/Action\", \"Fantasy/Adventure\", \"Drama/Romance\"],\n",
    "    \"Rating\": [9.2, 6.5, 8.0, 7.4, 5.3]\n",
    "}\n",
    "\n",
    "data"
   ]
  },
  {
   "cell_type": "code",
   "execution_count": 11,
   "metadata": {},
   "outputs": [],
   "source": [
    "prompt = f'Create a visualization with the following data: {data}'"
   ]
  },
  {
   "cell_type": "code",
   "execution_count": 7,
   "metadata": {},
   "outputs": [],
   "source": [
    "llm = ChatOpenAI(\n",
    "            openai_api_key=OPENAI_API_KEY,\n",
    "            model_name='gpt-4o-mini',\n",
    "            temperature=0.0\n",
    "        )"
   ]
  },
  {
   "cell_type": "code",
   "execution_count": 12,
   "metadata": {},
   "outputs": [
    {
     "name": "stdout",
     "output_type": "stream",
     "text": [
      "\n",
      "\n",
      "\u001b[1m> Entering new AgentExecutor chain...\u001b[0m\n",
      "\u001b[32;1m\u001b[1;3m\n",
      "Invoking: `create_plotly_chart` with `{'df': {'Title': ['The Godfather', 'Pulp Fiction', 'Inception', 'The Lord of the Rings: The Fellowship of the Ring', 'Forrest Gump'], 'Director': ['Francis Ford Coppola', 'Quentin Tarantino', 'Christopher Nolan', 'Peter Jackson', 'Robert Zemeckis'], 'Release Year': [1972, 1994, 2010, 2001, 1994], 'Genre': ['Drama/Crime', 'Crime/Drama', 'Science Fiction/Action', 'Fantasy/Adventure', 'Drama/Romance'], 'Rating': [9.2, 6.5, 8.0, 7.4, 5.3]}, 'plotly_code': \"fig = px.scatter(df, x='Release Year', y='Rating', color='Genre', hover_data=['Title', 'Director', 'Genre'], title='<b>Movie Ratings Over the Years</b>', labels={'Rating': 'Rating (out of 10)', 'Release Year': 'Release Year'}, template='plotly_white')\\nfig.update_traces(marker=dict(size=12, line=dict(width=2, color='DarkSlateGrey')))\\nfig.update_layout(xaxis_tickformat='d')\\nfig.show()\"}`\n",
      "responded: Thought: The data provided includes information about movies, such as title, director, release year, genre, and rating. A suitable visualization for this data could be a scatter plot where the x-axis represents the release year and the y-axis represents the movie rating. This will allow us to observe how the ratings of these iconic movies are distributed over the years. Additionally, the tooltip can display the movie title, director, and genre for more detailed information.\n",
      "\n",
      "Tool: functions.create_plotly_chart\n",
      "\n",
      "Action: I will create a scatter plot using Plotly to visualize the relationship between the release year and the movie rating, with additional details in the tooltip.\n",
      "\n",
      "\u001b[0m"
     ]
    },
    {
     "data": {
      "application/vnd.plotly.v1+json": {
       "config": {
        "plotlyServerURL": "https://plot.ly"
       },
       "data": [
        {
         "customdata": [
          [
           "The Godfather",
           "Francis Ford Coppola",
           "Drama/Crime"
          ]
         ],
         "hovertemplate": "Genre=%{customdata[2]}<br>Release Year=%{x}<br>Rating (out of 10)=%{y}<br>Title=%{customdata[0]}<br>Director=%{customdata[1]}<extra></extra>",
         "legendgroup": "Drama/Crime",
         "marker": {
          "color": "#636efa",
          "line": {
           "color": "DarkSlateGrey",
           "width": 2
          },
          "size": 12,
          "symbol": "circle"
         },
         "mode": "markers",
         "name": "Drama/Crime",
         "orientation": "v",
         "showlegend": true,
         "type": "scatter",
         "x": [
          1972
         ],
         "xaxis": "x",
         "y": [
          9.2
         ],
         "yaxis": "y"
        },
        {
         "customdata": [
          [
           "Pulp Fiction",
           "Quentin Tarantino",
           "Crime/Drama"
          ]
         ],
         "hovertemplate": "Genre=%{customdata[2]}<br>Release Year=%{x}<br>Rating (out of 10)=%{y}<br>Title=%{customdata[0]}<br>Director=%{customdata[1]}<extra></extra>",
         "legendgroup": "Crime/Drama",
         "marker": {
          "color": "#EF553B",
          "line": {
           "color": "DarkSlateGrey",
           "width": 2
          },
          "size": 12,
          "symbol": "circle"
         },
         "mode": "markers",
         "name": "Crime/Drama",
         "orientation": "v",
         "showlegend": true,
         "type": "scatter",
         "x": [
          1994
         ],
         "xaxis": "x",
         "y": [
          6.5
         ],
         "yaxis": "y"
        },
        {
         "customdata": [
          [
           "Inception",
           "Christopher Nolan",
           "Science Fiction/Action"
          ]
         ],
         "hovertemplate": "Genre=%{customdata[2]}<br>Release Year=%{x}<br>Rating (out of 10)=%{y}<br>Title=%{customdata[0]}<br>Director=%{customdata[1]}<extra></extra>",
         "legendgroup": "Science Fiction/Action",
         "marker": {
          "color": "#00cc96",
          "line": {
           "color": "DarkSlateGrey",
           "width": 2
          },
          "size": 12,
          "symbol": "circle"
         },
         "mode": "markers",
         "name": "Science Fiction/Action",
         "orientation": "v",
         "showlegend": true,
         "type": "scatter",
         "x": [
          2010
         ],
         "xaxis": "x",
         "y": [
          8
         ],
         "yaxis": "y"
        },
        {
         "customdata": [
          [
           "The Lord of the Rings: The Fellowship of the Ring",
           "Peter Jackson",
           "Fantasy/Adventure"
          ]
         ],
         "hovertemplate": "Genre=%{customdata[2]}<br>Release Year=%{x}<br>Rating (out of 10)=%{y}<br>Title=%{customdata[0]}<br>Director=%{customdata[1]}<extra></extra>",
         "legendgroup": "Fantasy/Adventure",
         "marker": {
          "color": "#ab63fa",
          "line": {
           "color": "DarkSlateGrey",
           "width": 2
          },
          "size": 12,
          "symbol": "circle"
         },
         "mode": "markers",
         "name": "Fantasy/Adventure",
         "orientation": "v",
         "showlegend": true,
         "type": "scatter",
         "x": [
          2001
         ],
         "xaxis": "x",
         "y": [
          7.4
         ],
         "yaxis": "y"
        },
        {
         "customdata": [
          [
           "Forrest Gump",
           "Robert Zemeckis",
           "Drama/Romance"
          ]
         ],
         "hovertemplate": "Genre=%{customdata[2]}<br>Release Year=%{x}<br>Rating (out of 10)=%{y}<br>Title=%{customdata[0]}<br>Director=%{customdata[1]}<extra></extra>",
         "legendgroup": "Drama/Romance",
         "marker": {
          "color": "#FFA15A",
          "line": {
           "color": "DarkSlateGrey",
           "width": 2
          },
          "size": 12,
          "symbol": "circle"
         },
         "mode": "markers",
         "name": "Drama/Romance",
         "orientation": "v",
         "showlegend": true,
         "type": "scatter",
         "x": [
          1994
         ],
         "xaxis": "x",
         "y": [
          5.3
         ],
         "yaxis": "y"
        }
       ],
       "layout": {
        "legend": {
         "title": {
          "text": "Genre"
         },
         "tracegroupgap": 0
        },
        "template": {
         "data": {
          "bar": [
           {
            "error_x": {
             "color": "#2a3f5f"
            },
            "error_y": {
             "color": "#2a3f5f"
            },
            "marker": {
             "line": {
              "color": "white",
              "width": 0.5
             },
             "pattern": {
              "fillmode": "overlay",
              "size": 10,
              "solidity": 0.2
             }
            },
            "type": "bar"
           }
          ],
          "barpolar": [
           {
            "marker": {
             "line": {
              "color": "white",
              "width": 0.5
             },
             "pattern": {
              "fillmode": "overlay",
              "size": 10,
              "solidity": 0.2
             }
            },
            "type": "barpolar"
           }
          ],
          "carpet": [
           {
            "aaxis": {
             "endlinecolor": "#2a3f5f",
             "gridcolor": "#C8D4E3",
             "linecolor": "#C8D4E3",
             "minorgridcolor": "#C8D4E3",
             "startlinecolor": "#2a3f5f"
            },
            "baxis": {
             "endlinecolor": "#2a3f5f",
             "gridcolor": "#C8D4E3",
             "linecolor": "#C8D4E3",
             "minorgridcolor": "#C8D4E3",
             "startlinecolor": "#2a3f5f"
            },
            "type": "carpet"
           }
          ],
          "choropleth": [
           {
            "colorbar": {
             "outlinewidth": 0,
             "ticks": ""
            },
            "type": "choropleth"
           }
          ],
          "contour": [
           {
            "colorbar": {
             "outlinewidth": 0,
             "ticks": ""
            },
            "colorscale": [
             [
              0,
              "#0d0887"
             ],
             [
              0.1111111111111111,
              "#46039f"
             ],
             [
              0.2222222222222222,
              "#7201a8"
             ],
             [
              0.3333333333333333,
              "#9c179e"
             ],
             [
              0.4444444444444444,
              "#bd3786"
             ],
             [
              0.5555555555555556,
              "#d8576b"
             ],
             [
              0.6666666666666666,
              "#ed7953"
             ],
             [
              0.7777777777777778,
              "#fb9f3a"
             ],
             [
              0.8888888888888888,
              "#fdca26"
             ],
             [
              1,
              "#f0f921"
             ]
            ],
            "type": "contour"
           }
          ],
          "contourcarpet": [
           {
            "colorbar": {
             "outlinewidth": 0,
             "ticks": ""
            },
            "type": "contourcarpet"
           }
          ],
          "heatmap": [
           {
            "colorbar": {
             "outlinewidth": 0,
             "ticks": ""
            },
            "colorscale": [
             [
              0,
              "#0d0887"
             ],
             [
              0.1111111111111111,
              "#46039f"
             ],
             [
              0.2222222222222222,
              "#7201a8"
             ],
             [
              0.3333333333333333,
              "#9c179e"
             ],
             [
              0.4444444444444444,
              "#bd3786"
             ],
             [
              0.5555555555555556,
              "#d8576b"
             ],
             [
              0.6666666666666666,
              "#ed7953"
             ],
             [
              0.7777777777777778,
              "#fb9f3a"
             ],
             [
              0.8888888888888888,
              "#fdca26"
             ],
             [
              1,
              "#f0f921"
             ]
            ],
            "type": "heatmap"
           }
          ],
          "heatmapgl": [
           {
            "colorbar": {
             "outlinewidth": 0,
             "ticks": ""
            },
            "colorscale": [
             [
              0,
              "#0d0887"
             ],
             [
              0.1111111111111111,
              "#46039f"
             ],
             [
              0.2222222222222222,
              "#7201a8"
             ],
             [
              0.3333333333333333,
              "#9c179e"
             ],
             [
              0.4444444444444444,
              "#bd3786"
             ],
             [
              0.5555555555555556,
              "#d8576b"
             ],
             [
              0.6666666666666666,
              "#ed7953"
             ],
             [
              0.7777777777777778,
              "#fb9f3a"
             ],
             [
              0.8888888888888888,
              "#fdca26"
             ],
             [
              1,
              "#f0f921"
             ]
            ],
            "type": "heatmapgl"
           }
          ],
          "histogram": [
           {
            "marker": {
             "pattern": {
              "fillmode": "overlay",
              "size": 10,
              "solidity": 0.2
             }
            },
            "type": "histogram"
           }
          ],
          "histogram2d": [
           {
            "colorbar": {
             "outlinewidth": 0,
             "ticks": ""
            },
            "colorscale": [
             [
              0,
              "#0d0887"
             ],
             [
              0.1111111111111111,
              "#46039f"
             ],
             [
              0.2222222222222222,
              "#7201a8"
             ],
             [
              0.3333333333333333,
              "#9c179e"
             ],
             [
              0.4444444444444444,
              "#bd3786"
             ],
             [
              0.5555555555555556,
              "#d8576b"
             ],
             [
              0.6666666666666666,
              "#ed7953"
             ],
             [
              0.7777777777777778,
              "#fb9f3a"
             ],
             [
              0.8888888888888888,
              "#fdca26"
             ],
             [
              1,
              "#f0f921"
             ]
            ],
            "type": "histogram2d"
           }
          ],
          "histogram2dcontour": [
           {
            "colorbar": {
             "outlinewidth": 0,
             "ticks": ""
            },
            "colorscale": [
             [
              0,
              "#0d0887"
             ],
             [
              0.1111111111111111,
              "#46039f"
             ],
             [
              0.2222222222222222,
              "#7201a8"
             ],
             [
              0.3333333333333333,
              "#9c179e"
             ],
             [
              0.4444444444444444,
              "#bd3786"
             ],
             [
              0.5555555555555556,
              "#d8576b"
             ],
             [
              0.6666666666666666,
              "#ed7953"
             ],
             [
              0.7777777777777778,
              "#fb9f3a"
             ],
             [
              0.8888888888888888,
              "#fdca26"
             ],
             [
              1,
              "#f0f921"
             ]
            ],
            "type": "histogram2dcontour"
           }
          ],
          "mesh3d": [
           {
            "colorbar": {
             "outlinewidth": 0,
             "ticks": ""
            },
            "type": "mesh3d"
           }
          ],
          "parcoords": [
           {
            "line": {
             "colorbar": {
              "outlinewidth": 0,
              "ticks": ""
             }
            },
            "type": "parcoords"
           }
          ],
          "pie": [
           {
            "automargin": true,
            "type": "pie"
           }
          ],
          "scatter": [
           {
            "fillpattern": {
             "fillmode": "overlay",
             "size": 10,
             "solidity": 0.2
            },
            "type": "scatter"
           }
          ],
          "scatter3d": [
           {
            "line": {
             "colorbar": {
              "outlinewidth": 0,
              "ticks": ""
             }
            },
            "marker": {
             "colorbar": {
              "outlinewidth": 0,
              "ticks": ""
             }
            },
            "type": "scatter3d"
           }
          ],
          "scattercarpet": [
           {
            "marker": {
             "colorbar": {
              "outlinewidth": 0,
              "ticks": ""
             }
            },
            "type": "scattercarpet"
           }
          ],
          "scattergeo": [
           {
            "marker": {
             "colorbar": {
              "outlinewidth": 0,
              "ticks": ""
             }
            },
            "type": "scattergeo"
           }
          ],
          "scattergl": [
           {
            "marker": {
             "colorbar": {
              "outlinewidth": 0,
              "ticks": ""
             }
            },
            "type": "scattergl"
           }
          ],
          "scattermapbox": [
           {
            "marker": {
             "colorbar": {
              "outlinewidth": 0,
              "ticks": ""
             }
            },
            "type": "scattermapbox"
           }
          ],
          "scatterpolar": [
           {
            "marker": {
             "colorbar": {
              "outlinewidth": 0,
              "ticks": ""
             }
            },
            "type": "scatterpolar"
           }
          ],
          "scatterpolargl": [
           {
            "marker": {
             "colorbar": {
              "outlinewidth": 0,
              "ticks": ""
             }
            },
            "type": "scatterpolargl"
           }
          ],
          "scatterternary": [
           {
            "marker": {
             "colorbar": {
              "outlinewidth": 0,
              "ticks": ""
             }
            },
            "type": "scatterternary"
           }
          ],
          "surface": [
           {
            "colorbar": {
             "outlinewidth": 0,
             "ticks": ""
            },
            "colorscale": [
             [
              0,
              "#0d0887"
             ],
             [
              0.1111111111111111,
              "#46039f"
             ],
             [
              0.2222222222222222,
              "#7201a8"
             ],
             [
              0.3333333333333333,
              "#9c179e"
             ],
             [
              0.4444444444444444,
              "#bd3786"
             ],
             [
              0.5555555555555556,
              "#d8576b"
             ],
             [
              0.6666666666666666,
              "#ed7953"
             ],
             [
              0.7777777777777778,
              "#fb9f3a"
             ],
             [
              0.8888888888888888,
              "#fdca26"
             ],
             [
              1,
              "#f0f921"
             ]
            ],
            "type": "surface"
           }
          ],
          "table": [
           {
            "cells": {
             "fill": {
              "color": "#EBF0F8"
             },
             "line": {
              "color": "white"
             }
            },
            "header": {
             "fill": {
              "color": "#C8D4E3"
             },
             "line": {
              "color": "white"
             }
            },
            "type": "table"
           }
          ]
         },
         "layout": {
          "annotationdefaults": {
           "arrowcolor": "#2a3f5f",
           "arrowhead": 0,
           "arrowwidth": 1
          },
          "autotypenumbers": "strict",
          "coloraxis": {
           "colorbar": {
            "outlinewidth": 0,
            "ticks": ""
           }
          },
          "colorscale": {
           "diverging": [
            [
             0,
             "#8e0152"
            ],
            [
             0.1,
             "#c51b7d"
            ],
            [
             0.2,
             "#de77ae"
            ],
            [
             0.3,
             "#f1b6da"
            ],
            [
             0.4,
             "#fde0ef"
            ],
            [
             0.5,
             "#f7f7f7"
            ],
            [
             0.6,
             "#e6f5d0"
            ],
            [
             0.7,
             "#b8e186"
            ],
            [
             0.8,
             "#7fbc41"
            ],
            [
             0.9,
             "#4d9221"
            ],
            [
             1,
             "#276419"
            ]
           ],
           "sequential": [
            [
             0,
             "#0d0887"
            ],
            [
             0.1111111111111111,
             "#46039f"
            ],
            [
             0.2222222222222222,
             "#7201a8"
            ],
            [
             0.3333333333333333,
             "#9c179e"
            ],
            [
             0.4444444444444444,
             "#bd3786"
            ],
            [
             0.5555555555555556,
             "#d8576b"
            ],
            [
             0.6666666666666666,
             "#ed7953"
            ],
            [
             0.7777777777777778,
             "#fb9f3a"
            ],
            [
             0.8888888888888888,
             "#fdca26"
            ],
            [
             1,
             "#f0f921"
            ]
           ],
           "sequentialminus": [
            [
             0,
             "#0d0887"
            ],
            [
             0.1111111111111111,
             "#46039f"
            ],
            [
             0.2222222222222222,
             "#7201a8"
            ],
            [
             0.3333333333333333,
             "#9c179e"
            ],
            [
             0.4444444444444444,
             "#bd3786"
            ],
            [
             0.5555555555555556,
             "#d8576b"
            ],
            [
             0.6666666666666666,
             "#ed7953"
            ],
            [
             0.7777777777777778,
             "#fb9f3a"
            ],
            [
             0.8888888888888888,
             "#fdca26"
            ],
            [
             1,
             "#f0f921"
            ]
           ]
          },
          "colorway": [
           "#636efa",
           "#EF553B",
           "#00cc96",
           "#ab63fa",
           "#FFA15A",
           "#19d3f3",
           "#FF6692",
           "#B6E880",
           "#FF97FF",
           "#FECB52"
          ],
          "font": {
           "color": "#2a3f5f"
          },
          "geo": {
           "bgcolor": "white",
           "lakecolor": "white",
           "landcolor": "white",
           "showlakes": true,
           "showland": true,
           "subunitcolor": "#C8D4E3"
          },
          "hoverlabel": {
           "align": "left"
          },
          "hovermode": "closest",
          "mapbox": {
           "style": "light"
          },
          "paper_bgcolor": "white",
          "plot_bgcolor": "white",
          "polar": {
           "angularaxis": {
            "gridcolor": "#EBF0F8",
            "linecolor": "#EBF0F8",
            "ticks": ""
           },
           "bgcolor": "white",
           "radialaxis": {
            "gridcolor": "#EBF0F8",
            "linecolor": "#EBF0F8",
            "ticks": ""
           }
          },
          "scene": {
           "xaxis": {
            "backgroundcolor": "white",
            "gridcolor": "#DFE8F3",
            "gridwidth": 2,
            "linecolor": "#EBF0F8",
            "showbackground": true,
            "ticks": "",
            "zerolinecolor": "#EBF0F8"
           },
           "yaxis": {
            "backgroundcolor": "white",
            "gridcolor": "#DFE8F3",
            "gridwidth": 2,
            "linecolor": "#EBF0F8",
            "showbackground": true,
            "ticks": "",
            "zerolinecolor": "#EBF0F8"
           },
           "zaxis": {
            "backgroundcolor": "white",
            "gridcolor": "#DFE8F3",
            "gridwidth": 2,
            "linecolor": "#EBF0F8",
            "showbackground": true,
            "ticks": "",
            "zerolinecolor": "#EBF0F8"
           }
          },
          "shapedefaults": {
           "line": {
            "color": "#2a3f5f"
           }
          },
          "ternary": {
           "aaxis": {
            "gridcolor": "#DFE8F3",
            "linecolor": "#A2B1C6",
            "ticks": ""
           },
           "baxis": {
            "gridcolor": "#DFE8F3",
            "linecolor": "#A2B1C6",
            "ticks": ""
           },
           "bgcolor": "white",
           "caxis": {
            "gridcolor": "#DFE8F3",
            "linecolor": "#A2B1C6",
            "ticks": ""
           }
          },
          "title": {
           "x": 0.05
          },
          "xaxis": {
           "automargin": true,
           "gridcolor": "#EBF0F8",
           "linecolor": "#EBF0F8",
           "ticks": "",
           "title": {
            "standoff": 15
           },
           "zerolinecolor": "#EBF0F8",
           "zerolinewidth": 2
          },
          "yaxis": {
           "automargin": true,
           "gridcolor": "#EBF0F8",
           "linecolor": "#EBF0F8",
           "ticks": "",
           "title": {
            "standoff": 15
           },
           "zerolinecolor": "#EBF0F8",
           "zerolinewidth": 2
          }
         }
        },
        "title": {
         "text": "<b>Movie Ratings Over the Years</b>"
        },
        "xaxis": {
         "anchor": "y",
         "domain": [
          0,
          1
         ],
         "tickformat": "d",
         "title": {
          "text": "Release Year"
         }
        },
        "yaxis": {
         "anchor": "x",
         "domain": [
          0,
          1
         ],
         "title": {
          "text": "Rating (out of 10)"
         }
        }
       }
      }
     },
     "metadata": {},
     "output_type": "display_data"
    },
    {
     "name": "stdout",
     "output_type": "stream",
     "text": [
      "\u001b[36;1m\u001b[1;3mFigure({\n",
      "    'data': [{'customdata': array([['The Godfather', 'Francis Ford Coppola', 'Drama/Crime']], dtype=object),\n",
      "              'hovertemplate': ('Genre=%{customdata[2]}<br>Rele' ... '{customdata[1]}<extra></extra>'),\n",
      "              'legendgroup': 'Drama/Crime',\n",
      "              'marker': {'color': '#636efa',\n",
      "                         'line': {'color': 'DarkSlateGrey', 'width': 2},\n",
      "                         'size': 12,\n",
      "                         'symbol': 'circle'},\n",
      "              'mode': 'markers',\n",
      "              'name': 'Drama/Crime',\n",
      "              'orientation': 'v',\n",
      "              'showlegend': True,\n",
      "              'type': 'scatter',\n",
      "              'x': array([1972], dtype=int64),\n",
      "              'xaxis': 'x',\n",
      "              'y': array([9.2]),\n",
      "              'yaxis': 'y'},\n",
      "             {'customdata': array([['Pulp Fiction', 'Quentin Tarantino', 'Crime/Drama']], dtype=object),\n",
      "              'hovertemplate': ('Genre=%{customdata[2]}<br>Rele' ... '{customdata[1]}<extra></extra>'),\n",
      "              'legendgroup': 'Crime/Drama',\n",
      "              'marker': {'color': '#EF553B',\n",
      "                         'line': {'color': 'DarkSlateGrey', 'width': 2},\n",
      "                         'size': 12,\n",
      "                         'symbol': 'circle'},\n",
      "              'mode': 'markers',\n",
      "              'name': 'Crime/Drama',\n",
      "              'orientation': 'v',\n",
      "              'showlegend': True,\n",
      "              'type': 'scatter',\n",
      "              'x': array([1994], dtype=int64),\n",
      "              'xaxis': 'x',\n",
      "              'y': array([6.5]),\n",
      "              'yaxis': 'y'},\n",
      "             {'customdata': array([['Inception', 'Christopher Nolan', 'Science Fiction/Action']],\n",
      "                                  dtype=object),\n",
      "              'hovertemplate': ('Genre=%{customdata[2]}<br>Rele' ... '{customdata[1]}<extra></extra>'),\n",
      "              'legendgroup': 'Science Fiction/Action',\n",
      "              'marker': {'color': '#00cc96',\n",
      "                         'line': {'color': 'DarkSlateGrey', 'width': 2},\n",
      "                         'size': 12,\n",
      "                         'symbol': 'circle'},\n",
      "              'mode': 'markers',\n",
      "              'name': 'Science Fiction/Action',\n",
      "              'orientation': 'v',\n",
      "              'showlegend': True,\n",
      "              'type': 'scatter',\n",
      "              'x': array([2010], dtype=int64),\n",
      "              'xaxis': 'x',\n",
      "              'y': array([8.]),\n",
      "              'yaxis': 'y'},\n",
      "             {'customdata': array([['The Lord of the Rings: The Fellowship of the Ring', 'Peter Jackson',\n",
      "                                    'Fantasy/Adventure']], dtype=object),\n",
      "              'hovertemplate': ('Genre=%{customdata[2]}<br>Rele' ... '{customdata[1]}<extra></extra>'),\n",
      "              'legendgroup': 'Fantasy/Adventure',\n",
      "              'marker': {'color': '#ab63fa',\n",
      "                         'line': {'color': 'DarkSlateGrey', 'width': 2},\n",
      "                         'size': 12,\n",
      "                         'symbol': 'circle'},\n",
      "              'mode': 'markers',\n",
      "              'name': 'Fantasy/Adventure',\n",
      "              'orientation': 'v',\n",
      "              'showlegend': True,\n",
      "              'type': 'scatter',\n",
      "              'x': array([2001], dtype=int64),\n",
      "              'xaxis': 'x',\n",
      "              'y': array([7.4]),\n",
      "              'yaxis': 'y'},\n",
      "             {'customdata': array([['Forrest Gump', 'Robert Zemeckis', 'Drama/Romance']], dtype=object),\n",
      "              'hovertemplate': ('Genre=%{customdata[2]}<br>Rele' ... '{customdata[1]}<extra></extra>'),\n",
      "              'legendgroup': 'Drama/Romance',\n",
      "              'marker': {'color': '#FFA15A',\n",
      "                         'line': {'color': 'DarkSlateGrey', 'width': 2},\n",
      "                         'size': 12,\n",
      "                         'symbol': 'circle'},\n",
      "              'mode': 'markers',\n",
      "              'name': 'Drama/Romance',\n",
      "              'orientation': 'v',\n",
      "              'showlegend': True,\n",
      "              'type': 'scatter',\n",
      "              'x': array([1994], dtype=int64),\n",
      "              'xaxis': 'x',\n",
      "              'y': array([5.3]),\n",
      "              'yaxis': 'y'}],\n",
      "    'layout': {'legend': {'title': {'text': 'Genre'}, 'tracegroupgap': 0},\n",
      "               'template': '...',\n",
      "               'title': {'text': '<b>Movie Ratings Over the Years</b>'},\n",
      "               'xaxis': {'anchor': 'y', 'domain': [0.0, 1.0], 'tickformat': 'd', 'title': {'text': 'Release Year'}},\n",
      "               'yaxis': {'anchor': 'x', 'domain': [0.0, 1.0], 'title': {'text': 'Rating (out of 10)'}}}\n",
      "})\u001b[0m\u001b[32;1m\u001b[1;3mHere is the Python code for the scatter plot visualization of movie ratings over the years:\n",
      "\n",
      "```python\n",
      "import pandas as pd\n",
      "import plotly.express as px\n",
      "\n",
      "# Data preparation\n",
      "data = {\n",
      "    \"Title\": [\"The Godfather\", \"Pulp Fiction\", \"Inception\", \"The Lord of the Rings: The Fellowship of the Ring\", \"Forrest Gump\"],\n",
      "    \"Director\": [\"Francis Ford Coppola\", \"Quentin Tarantino\", \"Christopher Nolan\", \"Peter Jackson\", \"Robert Zemeckis\"],\n",
      "    \"Release Year\": [1972, 1994, 2010, 2001, 1994],\n",
      "    \"Genre\": [\"Drama/Crime\", \"Crime/Drama\", \"Science Fiction/Action\", \"Fantasy/Adventure\", \"Drama/Romance\"],\n",
      "    \"Rating\": [9.2, 6.5, 8.0, 7.4, 5.3]\n",
      "}\n",
      "df = pd.DataFrame(data)\n",
      "\n",
      "# Plot creation\n",
      "fig = px.scatter(df, x='Release Year', y='Rating', color='Genre', hover_data=['Title', 'Director', 'Genre'],\n",
      "                 title='<b>Movie Ratings Over the Years</b>',\n",
      "                 labels={'Rating': 'Rating (out of 10)', 'Release Year': 'Release Year'},\n",
      "                 template='plotly_white')\n",
      "fig.update_traces(marker=dict(size=12, line=dict(width=2, color='DarkSlateGrey')))\n",
      "fig.update_layout(xaxis_tickformat='d')\n",
      "fig.show()\n",
      "```\n",
      "\n",
      "This code will generate a scatter plot where each point represents a movie, plotted according to its release year and rating. The color of the points varies by genre, and hovering over a point will display the movie's title, director, and genre.\u001b[0m\n",
      "\n",
      "\u001b[1m> Finished chain.\u001b[0m\n"
     ]
    },
    {
     "data": {
      "application/vnd.plotly.v1+json": {
       "config": {
        "plotlyServerURL": "https://plot.ly"
       },
       "data": [
        {
         "customdata": [
          [
           "The Godfather",
           "Francis Ford Coppola",
           "Drama/Crime"
          ]
         ],
         "hovertemplate": "Genre=%{customdata[2]}<br>Release Year=%{x}<br>Rating (out of 10)=%{y}<br>Title=%{customdata[0]}<br>Director=%{customdata[1]}<extra></extra>",
         "legendgroup": "Drama/Crime",
         "marker": {
          "color": "#636efa",
          "line": {
           "color": "DarkSlateGrey",
           "width": 2
          },
          "size": 12,
          "symbol": "circle"
         },
         "mode": "markers",
         "name": "Drama/Crime",
         "orientation": "v",
         "showlegend": true,
         "type": "scatter",
         "x": [
          1972
         ],
         "xaxis": "x",
         "y": [
          9.2
         ],
         "yaxis": "y"
        },
        {
         "customdata": [
          [
           "Pulp Fiction",
           "Quentin Tarantino",
           "Crime/Drama"
          ]
         ],
         "hovertemplate": "Genre=%{customdata[2]}<br>Release Year=%{x}<br>Rating (out of 10)=%{y}<br>Title=%{customdata[0]}<br>Director=%{customdata[1]}<extra></extra>",
         "legendgroup": "Crime/Drama",
         "marker": {
          "color": "#EF553B",
          "line": {
           "color": "DarkSlateGrey",
           "width": 2
          },
          "size": 12,
          "symbol": "circle"
         },
         "mode": "markers",
         "name": "Crime/Drama",
         "orientation": "v",
         "showlegend": true,
         "type": "scatter",
         "x": [
          1994
         ],
         "xaxis": "x",
         "y": [
          6.5
         ],
         "yaxis": "y"
        },
        {
         "customdata": [
          [
           "Inception",
           "Christopher Nolan",
           "Science Fiction/Action"
          ]
         ],
         "hovertemplate": "Genre=%{customdata[2]}<br>Release Year=%{x}<br>Rating (out of 10)=%{y}<br>Title=%{customdata[0]}<br>Director=%{customdata[1]}<extra></extra>",
         "legendgroup": "Science Fiction/Action",
         "marker": {
          "color": "#00cc96",
          "line": {
           "color": "DarkSlateGrey",
           "width": 2
          },
          "size": 12,
          "symbol": "circle"
         },
         "mode": "markers",
         "name": "Science Fiction/Action",
         "orientation": "v",
         "showlegend": true,
         "type": "scatter",
         "x": [
          2010
         ],
         "xaxis": "x",
         "y": [
          8
         ],
         "yaxis": "y"
        },
        {
         "customdata": [
          [
           "The Lord of the Rings: The Fellowship of the Ring",
           "Peter Jackson",
           "Fantasy/Adventure"
          ]
         ],
         "hovertemplate": "Genre=%{customdata[2]}<br>Release Year=%{x}<br>Rating (out of 10)=%{y}<br>Title=%{customdata[0]}<br>Director=%{customdata[1]}<extra></extra>",
         "legendgroup": "Fantasy/Adventure",
         "marker": {
          "color": "#ab63fa",
          "line": {
           "color": "DarkSlateGrey",
           "width": 2
          },
          "size": 12,
          "symbol": "circle"
         },
         "mode": "markers",
         "name": "Fantasy/Adventure",
         "orientation": "v",
         "showlegend": true,
         "type": "scatter",
         "x": [
          2001
         ],
         "xaxis": "x",
         "y": [
          7.4
         ],
         "yaxis": "y"
        },
        {
         "customdata": [
          [
           "Forrest Gump",
           "Robert Zemeckis",
           "Drama/Romance"
          ]
         ],
         "hovertemplate": "Genre=%{customdata[2]}<br>Release Year=%{x}<br>Rating (out of 10)=%{y}<br>Title=%{customdata[0]}<br>Director=%{customdata[1]}<extra></extra>",
         "legendgroup": "Drama/Romance",
         "marker": {
          "color": "#FFA15A",
          "line": {
           "color": "DarkSlateGrey",
           "width": 2
          },
          "size": 12,
          "symbol": "circle"
         },
         "mode": "markers",
         "name": "Drama/Romance",
         "orientation": "v",
         "showlegend": true,
         "type": "scatter",
         "x": [
          1994
         ],
         "xaxis": "x",
         "y": [
          5.3
         ],
         "yaxis": "y"
        }
       ],
       "layout": {
        "legend": {
         "title": {
          "text": "Genre"
         },
         "tracegroupgap": 0
        },
        "template": {
         "data": {
          "bar": [
           {
            "error_x": {
             "color": "#2a3f5f"
            },
            "error_y": {
             "color": "#2a3f5f"
            },
            "marker": {
             "line": {
              "color": "white",
              "width": 0.5
             },
             "pattern": {
              "fillmode": "overlay",
              "size": 10,
              "solidity": 0.2
             }
            },
            "type": "bar"
           }
          ],
          "barpolar": [
           {
            "marker": {
             "line": {
              "color": "white",
              "width": 0.5
             },
             "pattern": {
              "fillmode": "overlay",
              "size": 10,
              "solidity": 0.2
             }
            },
            "type": "barpolar"
           }
          ],
          "carpet": [
           {
            "aaxis": {
             "endlinecolor": "#2a3f5f",
             "gridcolor": "#C8D4E3",
             "linecolor": "#C8D4E3",
             "minorgridcolor": "#C8D4E3",
             "startlinecolor": "#2a3f5f"
            },
            "baxis": {
             "endlinecolor": "#2a3f5f",
             "gridcolor": "#C8D4E3",
             "linecolor": "#C8D4E3",
             "minorgridcolor": "#C8D4E3",
             "startlinecolor": "#2a3f5f"
            },
            "type": "carpet"
           }
          ],
          "choropleth": [
           {
            "colorbar": {
             "outlinewidth": 0,
             "ticks": ""
            },
            "type": "choropleth"
           }
          ],
          "contour": [
           {
            "colorbar": {
             "outlinewidth": 0,
             "ticks": ""
            },
            "colorscale": [
             [
              0,
              "#0d0887"
             ],
             [
              0.1111111111111111,
              "#46039f"
             ],
             [
              0.2222222222222222,
              "#7201a8"
             ],
             [
              0.3333333333333333,
              "#9c179e"
             ],
             [
              0.4444444444444444,
              "#bd3786"
             ],
             [
              0.5555555555555556,
              "#d8576b"
             ],
             [
              0.6666666666666666,
              "#ed7953"
             ],
             [
              0.7777777777777778,
              "#fb9f3a"
             ],
             [
              0.8888888888888888,
              "#fdca26"
             ],
             [
              1,
              "#f0f921"
             ]
            ],
            "type": "contour"
           }
          ],
          "contourcarpet": [
           {
            "colorbar": {
             "outlinewidth": 0,
             "ticks": ""
            },
            "type": "contourcarpet"
           }
          ],
          "heatmap": [
           {
            "colorbar": {
             "outlinewidth": 0,
             "ticks": ""
            },
            "colorscale": [
             [
              0,
              "#0d0887"
             ],
             [
              0.1111111111111111,
              "#46039f"
             ],
             [
              0.2222222222222222,
              "#7201a8"
             ],
             [
              0.3333333333333333,
              "#9c179e"
             ],
             [
              0.4444444444444444,
              "#bd3786"
             ],
             [
              0.5555555555555556,
              "#d8576b"
             ],
             [
              0.6666666666666666,
              "#ed7953"
             ],
             [
              0.7777777777777778,
              "#fb9f3a"
             ],
             [
              0.8888888888888888,
              "#fdca26"
             ],
             [
              1,
              "#f0f921"
             ]
            ],
            "type": "heatmap"
           }
          ],
          "heatmapgl": [
           {
            "colorbar": {
             "outlinewidth": 0,
             "ticks": ""
            },
            "colorscale": [
             [
              0,
              "#0d0887"
             ],
             [
              0.1111111111111111,
              "#46039f"
             ],
             [
              0.2222222222222222,
              "#7201a8"
             ],
             [
              0.3333333333333333,
              "#9c179e"
             ],
             [
              0.4444444444444444,
              "#bd3786"
             ],
             [
              0.5555555555555556,
              "#d8576b"
             ],
             [
              0.6666666666666666,
              "#ed7953"
             ],
             [
              0.7777777777777778,
              "#fb9f3a"
             ],
             [
              0.8888888888888888,
              "#fdca26"
             ],
             [
              1,
              "#f0f921"
             ]
            ],
            "type": "heatmapgl"
           }
          ],
          "histogram": [
           {
            "marker": {
             "pattern": {
              "fillmode": "overlay",
              "size": 10,
              "solidity": 0.2
             }
            },
            "type": "histogram"
           }
          ],
          "histogram2d": [
           {
            "colorbar": {
             "outlinewidth": 0,
             "ticks": ""
            },
            "colorscale": [
             [
              0,
              "#0d0887"
             ],
             [
              0.1111111111111111,
              "#46039f"
             ],
             [
              0.2222222222222222,
              "#7201a8"
             ],
             [
              0.3333333333333333,
              "#9c179e"
             ],
             [
              0.4444444444444444,
              "#bd3786"
             ],
             [
              0.5555555555555556,
              "#d8576b"
             ],
             [
              0.6666666666666666,
              "#ed7953"
             ],
             [
              0.7777777777777778,
              "#fb9f3a"
             ],
             [
              0.8888888888888888,
              "#fdca26"
             ],
             [
              1,
              "#f0f921"
             ]
            ],
            "type": "histogram2d"
           }
          ],
          "histogram2dcontour": [
           {
            "colorbar": {
             "outlinewidth": 0,
             "ticks": ""
            },
            "colorscale": [
             [
              0,
              "#0d0887"
             ],
             [
              0.1111111111111111,
              "#46039f"
             ],
             [
              0.2222222222222222,
              "#7201a8"
             ],
             [
              0.3333333333333333,
              "#9c179e"
             ],
             [
              0.4444444444444444,
              "#bd3786"
             ],
             [
              0.5555555555555556,
              "#d8576b"
             ],
             [
              0.6666666666666666,
              "#ed7953"
             ],
             [
              0.7777777777777778,
              "#fb9f3a"
             ],
             [
              0.8888888888888888,
              "#fdca26"
             ],
             [
              1,
              "#f0f921"
             ]
            ],
            "type": "histogram2dcontour"
           }
          ],
          "mesh3d": [
           {
            "colorbar": {
             "outlinewidth": 0,
             "ticks": ""
            },
            "type": "mesh3d"
           }
          ],
          "parcoords": [
           {
            "line": {
             "colorbar": {
              "outlinewidth": 0,
              "ticks": ""
             }
            },
            "type": "parcoords"
           }
          ],
          "pie": [
           {
            "automargin": true,
            "type": "pie"
           }
          ],
          "scatter": [
           {
            "fillpattern": {
             "fillmode": "overlay",
             "size": 10,
             "solidity": 0.2
            },
            "type": "scatter"
           }
          ],
          "scatter3d": [
           {
            "line": {
             "colorbar": {
              "outlinewidth": 0,
              "ticks": ""
             }
            },
            "marker": {
             "colorbar": {
              "outlinewidth": 0,
              "ticks": ""
             }
            },
            "type": "scatter3d"
           }
          ],
          "scattercarpet": [
           {
            "marker": {
             "colorbar": {
              "outlinewidth": 0,
              "ticks": ""
             }
            },
            "type": "scattercarpet"
           }
          ],
          "scattergeo": [
           {
            "marker": {
             "colorbar": {
              "outlinewidth": 0,
              "ticks": ""
             }
            },
            "type": "scattergeo"
           }
          ],
          "scattergl": [
           {
            "marker": {
             "colorbar": {
              "outlinewidth": 0,
              "ticks": ""
             }
            },
            "type": "scattergl"
           }
          ],
          "scattermapbox": [
           {
            "marker": {
             "colorbar": {
              "outlinewidth": 0,
              "ticks": ""
             }
            },
            "type": "scattermapbox"
           }
          ],
          "scatterpolar": [
           {
            "marker": {
             "colorbar": {
              "outlinewidth": 0,
              "ticks": ""
             }
            },
            "type": "scatterpolar"
           }
          ],
          "scatterpolargl": [
           {
            "marker": {
             "colorbar": {
              "outlinewidth": 0,
              "ticks": ""
             }
            },
            "type": "scatterpolargl"
           }
          ],
          "scatterternary": [
           {
            "marker": {
             "colorbar": {
              "outlinewidth": 0,
              "ticks": ""
             }
            },
            "type": "scatterternary"
           }
          ],
          "surface": [
           {
            "colorbar": {
             "outlinewidth": 0,
             "ticks": ""
            },
            "colorscale": [
             [
              0,
              "#0d0887"
             ],
             [
              0.1111111111111111,
              "#46039f"
             ],
             [
              0.2222222222222222,
              "#7201a8"
             ],
             [
              0.3333333333333333,
              "#9c179e"
             ],
             [
              0.4444444444444444,
              "#bd3786"
             ],
             [
              0.5555555555555556,
              "#d8576b"
             ],
             [
              0.6666666666666666,
              "#ed7953"
             ],
             [
              0.7777777777777778,
              "#fb9f3a"
             ],
             [
              0.8888888888888888,
              "#fdca26"
             ],
             [
              1,
              "#f0f921"
             ]
            ],
            "type": "surface"
           }
          ],
          "table": [
           {
            "cells": {
             "fill": {
              "color": "#EBF0F8"
             },
             "line": {
              "color": "white"
             }
            },
            "header": {
             "fill": {
              "color": "#C8D4E3"
             },
             "line": {
              "color": "white"
             }
            },
            "type": "table"
           }
          ]
         },
         "layout": {
          "annotationdefaults": {
           "arrowcolor": "#2a3f5f",
           "arrowhead": 0,
           "arrowwidth": 1
          },
          "autotypenumbers": "strict",
          "coloraxis": {
           "colorbar": {
            "outlinewidth": 0,
            "ticks": ""
           }
          },
          "colorscale": {
           "diverging": [
            [
             0,
             "#8e0152"
            ],
            [
             0.1,
             "#c51b7d"
            ],
            [
             0.2,
             "#de77ae"
            ],
            [
             0.3,
             "#f1b6da"
            ],
            [
             0.4,
             "#fde0ef"
            ],
            [
             0.5,
             "#f7f7f7"
            ],
            [
             0.6,
             "#e6f5d0"
            ],
            [
             0.7,
             "#b8e186"
            ],
            [
             0.8,
             "#7fbc41"
            ],
            [
             0.9,
             "#4d9221"
            ],
            [
             1,
             "#276419"
            ]
           ],
           "sequential": [
            [
             0,
             "#0d0887"
            ],
            [
             0.1111111111111111,
             "#46039f"
            ],
            [
             0.2222222222222222,
             "#7201a8"
            ],
            [
             0.3333333333333333,
             "#9c179e"
            ],
            [
             0.4444444444444444,
             "#bd3786"
            ],
            [
             0.5555555555555556,
             "#d8576b"
            ],
            [
             0.6666666666666666,
             "#ed7953"
            ],
            [
             0.7777777777777778,
             "#fb9f3a"
            ],
            [
             0.8888888888888888,
             "#fdca26"
            ],
            [
             1,
             "#f0f921"
            ]
           ],
           "sequentialminus": [
            [
             0,
             "#0d0887"
            ],
            [
             0.1111111111111111,
             "#46039f"
            ],
            [
             0.2222222222222222,
             "#7201a8"
            ],
            [
             0.3333333333333333,
             "#9c179e"
            ],
            [
             0.4444444444444444,
             "#bd3786"
            ],
            [
             0.5555555555555556,
             "#d8576b"
            ],
            [
             0.6666666666666666,
             "#ed7953"
            ],
            [
             0.7777777777777778,
             "#fb9f3a"
            ],
            [
             0.8888888888888888,
             "#fdca26"
            ],
            [
             1,
             "#f0f921"
            ]
           ]
          },
          "colorway": [
           "#636efa",
           "#EF553B",
           "#00cc96",
           "#ab63fa",
           "#FFA15A",
           "#19d3f3",
           "#FF6692",
           "#B6E880",
           "#FF97FF",
           "#FECB52"
          ],
          "font": {
           "color": "#2a3f5f"
          },
          "geo": {
           "bgcolor": "white",
           "lakecolor": "white",
           "landcolor": "white",
           "showlakes": true,
           "showland": true,
           "subunitcolor": "#C8D4E3"
          },
          "hoverlabel": {
           "align": "left"
          },
          "hovermode": "closest",
          "mapbox": {
           "style": "light"
          },
          "paper_bgcolor": "white",
          "plot_bgcolor": "white",
          "polar": {
           "angularaxis": {
            "gridcolor": "#EBF0F8",
            "linecolor": "#EBF0F8",
            "ticks": ""
           },
           "bgcolor": "white",
           "radialaxis": {
            "gridcolor": "#EBF0F8",
            "linecolor": "#EBF0F8",
            "ticks": ""
           }
          },
          "scene": {
           "xaxis": {
            "backgroundcolor": "white",
            "gridcolor": "#DFE8F3",
            "gridwidth": 2,
            "linecolor": "#EBF0F8",
            "showbackground": true,
            "ticks": "",
            "zerolinecolor": "#EBF0F8"
           },
           "yaxis": {
            "backgroundcolor": "white",
            "gridcolor": "#DFE8F3",
            "gridwidth": 2,
            "linecolor": "#EBF0F8",
            "showbackground": true,
            "ticks": "",
            "zerolinecolor": "#EBF0F8"
           },
           "zaxis": {
            "backgroundcolor": "white",
            "gridcolor": "#DFE8F3",
            "gridwidth": 2,
            "linecolor": "#EBF0F8",
            "showbackground": true,
            "ticks": "",
            "zerolinecolor": "#EBF0F8"
           }
          },
          "shapedefaults": {
           "line": {
            "color": "#2a3f5f"
           }
          },
          "ternary": {
           "aaxis": {
            "gridcolor": "#DFE8F3",
            "linecolor": "#A2B1C6",
            "ticks": ""
           },
           "baxis": {
            "gridcolor": "#DFE8F3",
            "linecolor": "#A2B1C6",
            "ticks": ""
           },
           "bgcolor": "white",
           "caxis": {
            "gridcolor": "#DFE8F3",
            "linecolor": "#A2B1C6",
            "ticks": ""
           }
          },
          "title": {
           "x": 0.05
          },
          "xaxis": {
           "automargin": true,
           "gridcolor": "#EBF0F8",
           "linecolor": "#EBF0F8",
           "ticks": "",
           "title": {
            "standoff": 15
           },
           "zerolinecolor": "#EBF0F8",
           "zerolinewidth": 2
          },
          "yaxis": {
           "automargin": true,
           "gridcolor": "#EBF0F8",
           "linecolor": "#EBF0F8",
           "ticks": "",
           "title": {
            "standoff": 15
           },
           "zerolinecolor": "#EBF0F8",
           "zerolinewidth": 2
          }
         }
        },
        "title": {
         "text": "<b>Movie Ratings Over the Years</b>"
        },
        "xaxis": {
         "anchor": "y",
         "domain": [
          0,
          1
         ],
         "tickformat": "d",
         "title": {
          "text": "Release Year"
         }
        },
        "yaxis": {
         "anchor": "x",
         "domain": [
          0,
          1
         ],
         "title": {
          "text": "Rating (out of 10)"
         }
        }
       }
      }
     },
     "metadata": {},
     "output_type": "display_data"
    }
   ],
   "source": [
    "# judge if a input deserve a data visualization\n",
    "judgment = judge(text=prompt, llm=llm)\n",
    "\n",
    "if judgment:\n",
    "        llm = ChatOpenAI(\n",
    "            openai_api_key=OPENAI_API_KEY,\n",
    "            # gpt-4-turbo had a better perform than gpt-4o and gpt-4o-mini\n",
    "            model_name='gpt-4-turbo',\n",
    "            temperature=0.0\n",
    "        )\n",
    "\n",
    "        plotly_agent = create_plotly_agent(llm=llm, max_interations=8, verbose=True)\n",
    "        plotly_response = plotly_agent.invoke({'input': prompt})\n",
    "        \n",
    "        fig_code = extract_python_code(plotly_response['output'])\n",
    "        fig_dict = {\"fig\": Figure}\n",
    "        exec(fig_code, fig_dict)\n",
    "        \n",
    "        fig = fig_dict.get(\"fig\", None)"
   ]
  },
  {
   "cell_type": "code",
   "execution_count": 13,
   "metadata": {},
   "outputs": [
    {
     "name": "stdout",
     "output_type": "stream",
     "text": [
      "\n",
      "\n",
      "\u001b[1m> Entering new AgentExecutor chain...\u001b[0m\n",
      "\u001b[32;1m\u001b[1;3m\n",
      "Invoking: `create_plotly_chart` with `{'df': {'Title': ['The Godfather', 'Pulp Fiction', 'Inception', 'The Lord of the Rings: The Fellowship of the Ring', 'Forrest Gump'], 'Director': ['Francis Ford Coppola', 'Quentin Tarantino', 'Christopher Nolan', 'Peter Jackson', 'Robert Zemeckis'], 'Release Year': [1972, 1994, 2010, 2001, 1994], 'Genre': ['Drama/Crime', 'Crime/Drama', 'Science Fiction/Action', 'Fantasy/Adventure', 'Drama/Romance'], 'Rating': [9.2, 6.5, 8.0, 7.4, 5.3]}, 'plotly_code': \"import plotly.express as px\\nimport pandas as pd\\n\\ndf = pd.DataFrame({\\n    'Title': ['The Godfather', 'Pulp Fiction', 'Inception', 'The Lord of the Rings: The Fellowship of the Ring', 'Forrest Gump'],\\n    'Director': ['Francis Ford Coppola', 'Quentin Tarantino', 'Christopher Nolan', 'Peter Jackson', 'Robert Zemeckis'],\\n    'Release Year': [1972, 1994, 2010, 2001, 1994],\\n    'Genre': ['Drama/Crime', 'Crime/Drama', 'Science Fiction/Action', 'Fantasy/Adventure', 'Drama/Romance'],\\n    'Rating': [9.2, 6.5, 8.0, 7.4, 5.3]\\n})\\n\\nfig = px.scatter(df, x='Release Year', y='Title', color='Genre', size='Rating', hover_data=['Director', 'Genre', 'Rating'], title='<b>Timeline of Iconic Movies</b>')\\nfig.update_traces(marker=dict(line=dict(width=2, color='DarkSlateGrey')))\\nfig.update_layout(xaxis_title='Release Year', yaxis_title='Movie Title', xaxis=dict(tickmode='linear', tick0=df['Release Year'].min(), dtick=10))\\nfig.show()\"}`\n",
      "responded: Thought: The task is to create a timeline visualization using the provided data. The data includes movie titles, directors, release years, genres, and ratings. The timeline will be based on the release year of each movie. I will use Plotly to create this visualization, ensuring that the release year is formatted correctly and that the tooltip contains detailed information about each movie.\n",
      "\n",
      "Tool: functions.create_plotly_chart\n",
      "\n",
      "Action: I will now create the timeline visualization using the provided data.\n",
      "\n",
      "\u001b[0m"
     ]
    },
    {
     "data": {
      "application/vnd.plotly.v1+json": {
       "config": {
        "plotlyServerURL": "https://plot.ly"
       },
       "data": [
        {
         "customdata": [
          [
           "Francis Ford Coppola",
           "Drama/Crime",
           9.2
          ]
         ],
         "hovertemplate": "Genre=%{customdata[1]}<br>Release Year=%{x}<br>Title=%{y}<br>Rating=%{customdata[2]}<br>Director=%{customdata[0]}<extra></extra>",
         "legendgroup": "Drama/Crime",
         "marker": {
          "color": "#636efa",
          "line": {
           "color": "DarkSlateGrey",
           "width": 2
          },
          "size": [
           9.2
          ],
          "sizemode": "area",
          "sizeref": 0.023,
          "symbol": "circle"
         },
         "mode": "markers",
         "name": "Drama/Crime",
         "orientation": "h",
         "showlegend": true,
         "type": "scatter",
         "x": [
          1972
         ],
         "xaxis": "x",
         "y": [
          "The Godfather"
         ],
         "yaxis": "y"
        },
        {
         "customdata": [
          [
           "Quentin Tarantino",
           "Crime/Drama",
           6.5
          ]
         ],
         "hovertemplate": "Genre=%{customdata[1]}<br>Release Year=%{x}<br>Title=%{y}<br>Rating=%{customdata[2]}<br>Director=%{customdata[0]}<extra></extra>",
         "legendgroup": "Crime/Drama",
         "marker": {
          "color": "#EF553B",
          "line": {
           "color": "DarkSlateGrey",
           "width": 2
          },
          "size": [
           6.5
          ],
          "sizemode": "area",
          "sizeref": 0.023,
          "symbol": "circle"
         },
         "mode": "markers",
         "name": "Crime/Drama",
         "orientation": "h",
         "showlegend": true,
         "type": "scatter",
         "x": [
          1994
         ],
         "xaxis": "x",
         "y": [
          "Pulp Fiction"
         ],
         "yaxis": "y"
        },
        {
         "customdata": [
          [
           "Christopher Nolan",
           "Science Fiction/Action",
           8
          ]
         ],
         "hovertemplate": "Genre=%{customdata[1]}<br>Release Year=%{x}<br>Title=%{y}<br>Rating=%{customdata[2]}<br>Director=%{customdata[0]}<extra></extra>",
         "legendgroup": "Science Fiction/Action",
         "marker": {
          "color": "#00cc96",
          "line": {
           "color": "DarkSlateGrey",
           "width": 2
          },
          "size": [
           8
          ],
          "sizemode": "area",
          "sizeref": 0.023,
          "symbol": "circle"
         },
         "mode": "markers",
         "name": "Science Fiction/Action",
         "orientation": "h",
         "showlegend": true,
         "type": "scatter",
         "x": [
          2010
         ],
         "xaxis": "x",
         "y": [
          "Inception"
         ],
         "yaxis": "y"
        },
        {
         "customdata": [
          [
           "Peter Jackson",
           "Fantasy/Adventure",
           7.4
          ]
         ],
         "hovertemplate": "Genre=%{customdata[1]}<br>Release Year=%{x}<br>Title=%{y}<br>Rating=%{customdata[2]}<br>Director=%{customdata[0]}<extra></extra>",
         "legendgroup": "Fantasy/Adventure",
         "marker": {
          "color": "#ab63fa",
          "line": {
           "color": "DarkSlateGrey",
           "width": 2
          },
          "size": [
           7.4
          ],
          "sizemode": "area",
          "sizeref": 0.023,
          "symbol": "circle"
         },
         "mode": "markers",
         "name": "Fantasy/Adventure",
         "orientation": "h",
         "showlegend": true,
         "type": "scatter",
         "x": [
          2001
         ],
         "xaxis": "x",
         "y": [
          "The Lord of the Rings: The Fellowship of the Ring"
         ],
         "yaxis": "y"
        },
        {
         "customdata": [
          [
           "Robert Zemeckis",
           "Drama/Romance",
           5.3
          ]
         ],
         "hovertemplate": "Genre=%{customdata[1]}<br>Release Year=%{x}<br>Title=%{y}<br>Rating=%{customdata[2]}<br>Director=%{customdata[0]}<extra></extra>",
         "legendgroup": "Drama/Romance",
         "marker": {
          "color": "#FFA15A",
          "line": {
           "color": "DarkSlateGrey",
           "width": 2
          },
          "size": [
           5.3
          ],
          "sizemode": "area",
          "sizeref": 0.023,
          "symbol": "circle"
         },
         "mode": "markers",
         "name": "Drama/Romance",
         "orientation": "h",
         "showlegend": true,
         "type": "scatter",
         "x": [
          1994
         ],
         "xaxis": "x",
         "y": [
          "Forrest Gump"
         ],
         "yaxis": "y"
        }
       ],
       "layout": {
        "legend": {
         "itemsizing": "constant",
         "title": {
          "text": "Genre"
         },
         "tracegroupgap": 0
        },
        "template": {
         "data": {
          "bar": [
           {
            "error_x": {
             "color": "#2a3f5f"
            },
            "error_y": {
             "color": "#2a3f5f"
            },
            "marker": {
             "line": {
              "color": "#E5ECF6",
              "width": 0.5
             },
             "pattern": {
              "fillmode": "overlay",
              "size": 10,
              "solidity": 0.2
             }
            },
            "type": "bar"
           }
          ],
          "barpolar": [
           {
            "marker": {
             "line": {
              "color": "#E5ECF6",
              "width": 0.5
             },
             "pattern": {
              "fillmode": "overlay",
              "size": 10,
              "solidity": 0.2
             }
            },
            "type": "barpolar"
           }
          ],
          "carpet": [
           {
            "aaxis": {
             "endlinecolor": "#2a3f5f",
             "gridcolor": "white",
             "linecolor": "white",
             "minorgridcolor": "white",
             "startlinecolor": "#2a3f5f"
            },
            "baxis": {
             "endlinecolor": "#2a3f5f",
             "gridcolor": "white",
             "linecolor": "white",
             "minorgridcolor": "white",
             "startlinecolor": "#2a3f5f"
            },
            "type": "carpet"
           }
          ],
          "choropleth": [
           {
            "colorbar": {
             "outlinewidth": 0,
             "ticks": ""
            },
            "type": "choropleth"
           }
          ],
          "contour": [
           {
            "colorbar": {
             "outlinewidth": 0,
             "ticks": ""
            },
            "colorscale": [
             [
              0,
              "#0d0887"
             ],
             [
              0.1111111111111111,
              "#46039f"
             ],
             [
              0.2222222222222222,
              "#7201a8"
             ],
             [
              0.3333333333333333,
              "#9c179e"
             ],
             [
              0.4444444444444444,
              "#bd3786"
             ],
             [
              0.5555555555555556,
              "#d8576b"
             ],
             [
              0.6666666666666666,
              "#ed7953"
             ],
             [
              0.7777777777777778,
              "#fb9f3a"
             ],
             [
              0.8888888888888888,
              "#fdca26"
             ],
             [
              1,
              "#f0f921"
             ]
            ],
            "type": "contour"
           }
          ],
          "contourcarpet": [
           {
            "colorbar": {
             "outlinewidth": 0,
             "ticks": ""
            },
            "type": "contourcarpet"
           }
          ],
          "heatmap": [
           {
            "colorbar": {
             "outlinewidth": 0,
             "ticks": ""
            },
            "colorscale": [
             [
              0,
              "#0d0887"
             ],
             [
              0.1111111111111111,
              "#46039f"
             ],
             [
              0.2222222222222222,
              "#7201a8"
             ],
             [
              0.3333333333333333,
              "#9c179e"
             ],
             [
              0.4444444444444444,
              "#bd3786"
             ],
             [
              0.5555555555555556,
              "#d8576b"
             ],
             [
              0.6666666666666666,
              "#ed7953"
             ],
             [
              0.7777777777777778,
              "#fb9f3a"
             ],
             [
              0.8888888888888888,
              "#fdca26"
             ],
             [
              1,
              "#f0f921"
             ]
            ],
            "type": "heatmap"
           }
          ],
          "heatmapgl": [
           {
            "colorbar": {
             "outlinewidth": 0,
             "ticks": ""
            },
            "colorscale": [
             [
              0,
              "#0d0887"
             ],
             [
              0.1111111111111111,
              "#46039f"
             ],
             [
              0.2222222222222222,
              "#7201a8"
             ],
             [
              0.3333333333333333,
              "#9c179e"
             ],
             [
              0.4444444444444444,
              "#bd3786"
             ],
             [
              0.5555555555555556,
              "#d8576b"
             ],
             [
              0.6666666666666666,
              "#ed7953"
             ],
             [
              0.7777777777777778,
              "#fb9f3a"
             ],
             [
              0.8888888888888888,
              "#fdca26"
             ],
             [
              1,
              "#f0f921"
             ]
            ],
            "type": "heatmapgl"
           }
          ],
          "histogram": [
           {
            "marker": {
             "pattern": {
              "fillmode": "overlay",
              "size": 10,
              "solidity": 0.2
             }
            },
            "type": "histogram"
           }
          ],
          "histogram2d": [
           {
            "colorbar": {
             "outlinewidth": 0,
             "ticks": ""
            },
            "colorscale": [
             [
              0,
              "#0d0887"
             ],
             [
              0.1111111111111111,
              "#46039f"
             ],
             [
              0.2222222222222222,
              "#7201a8"
             ],
             [
              0.3333333333333333,
              "#9c179e"
             ],
             [
              0.4444444444444444,
              "#bd3786"
             ],
             [
              0.5555555555555556,
              "#d8576b"
             ],
             [
              0.6666666666666666,
              "#ed7953"
             ],
             [
              0.7777777777777778,
              "#fb9f3a"
             ],
             [
              0.8888888888888888,
              "#fdca26"
             ],
             [
              1,
              "#f0f921"
             ]
            ],
            "type": "histogram2d"
           }
          ],
          "histogram2dcontour": [
           {
            "colorbar": {
             "outlinewidth": 0,
             "ticks": ""
            },
            "colorscale": [
             [
              0,
              "#0d0887"
             ],
             [
              0.1111111111111111,
              "#46039f"
             ],
             [
              0.2222222222222222,
              "#7201a8"
             ],
             [
              0.3333333333333333,
              "#9c179e"
             ],
             [
              0.4444444444444444,
              "#bd3786"
             ],
             [
              0.5555555555555556,
              "#d8576b"
             ],
             [
              0.6666666666666666,
              "#ed7953"
             ],
             [
              0.7777777777777778,
              "#fb9f3a"
             ],
             [
              0.8888888888888888,
              "#fdca26"
             ],
             [
              1,
              "#f0f921"
             ]
            ],
            "type": "histogram2dcontour"
           }
          ],
          "mesh3d": [
           {
            "colorbar": {
             "outlinewidth": 0,
             "ticks": ""
            },
            "type": "mesh3d"
           }
          ],
          "parcoords": [
           {
            "line": {
             "colorbar": {
              "outlinewidth": 0,
              "ticks": ""
             }
            },
            "type": "parcoords"
           }
          ],
          "pie": [
           {
            "automargin": true,
            "type": "pie"
           }
          ],
          "scatter": [
           {
            "fillpattern": {
             "fillmode": "overlay",
             "size": 10,
             "solidity": 0.2
            },
            "type": "scatter"
           }
          ],
          "scatter3d": [
           {
            "line": {
             "colorbar": {
              "outlinewidth": 0,
              "ticks": ""
             }
            },
            "marker": {
             "colorbar": {
              "outlinewidth": 0,
              "ticks": ""
             }
            },
            "type": "scatter3d"
           }
          ],
          "scattercarpet": [
           {
            "marker": {
             "colorbar": {
              "outlinewidth": 0,
              "ticks": ""
             }
            },
            "type": "scattercarpet"
           }
          ],
          "scattergeo": [
           {
            "marker": {
             "colorbar": {
              "outlinewidth": 0,
              "ticks": ""
             }
            },
            "type": "scattergeo"
           }
          ],
          "scattergl": [
           {
            "marker": {
             "colorbar": {
              "outlinewidth": 0,
              "ticks": ""
             }
            },
            "type": "scattergl"
           }
          ],
          "scattermapbox": [
           {
            "marker": {
             "colorbar": {
              "outlinewidth": 0,
              "ticks": ""
             }
            },
            "type": "scattermapbox"
           }
          ],
          "scatterpolar": [
           {
            "marker": {
             "colorbar": {
              "outlinewidth": 0,
              "ticks": ""
             }
            },
            "type": "scatterpolar"
           }
          ],
          "scatterpolargl": [
           {
            "marker": {
             "colorbar": {
              "outlinewidth": 0,
              "ticks": ""
             }
            },
            "type": "scatterpolargl"
           }
          ],
          "scatterternary": [
           {
            "marker": {
             "colorbar": {
              "outlinewidth": 0,
              "ticks": ""
             }
            },
            "type": "scatterternary"
           }
          ],
          "surface": [
           {
            "colorbar": {
             "outlinewidth": 0,
             "ticks": ""
            },
            "colorscale": [
             [
              0,
              "#0d0887"
             ],
             [
              0.1111111111111111,
              "#46039f"
             ],
             [
              0.2222222222222222,
              "#7201a8"
             ],
             [
              0.3333333333333333,
              "#9c179e"
             ],
             [
              0.4444444444444444,
              "#bd3786"
             ],
             [
              0.5555555555555556,
              "#d8576b"
             ],
             [
              0.6666666666666666,
              "#ed7953"
             ],
             [
              0.7777777777777778,
              "#fb9f3a"
             ],
             [
              0.8888888888888888,
              "#fdca26"
             ],
             [
              1,
              "#f0f921"
             ]
            ],
            "type": "surface"
           }
          ],
          "table": [
           {
            "cells": {
             "fill": {
              "color": "#EBF0F8"
             },
             "line": {
              "color": "white"
             }
            },
            "header": {
             "fill": {
              "color": "#C8D4E3"
             },
             "line": {
              "color": "white"
             }
            },
            "type": "table"
           }
          ]
         },
         "layout": {
          "annotationdefaults": {
           "arrowcolor": "#2a3f5f",
           "arrowhead": 0,
           "arrowwidth": 1
          },
          "autotypenumbers": "strict",
          "coloraxis": {
           "colorbar": {
            "outlinewidth": 0,
            "ticks": ""
           }
          },
          "colorscale": {
           "diverging": [
            [
             0,
             "#8e0152"
            ],
            [
             0.1,
             "#c51b7d"
            ],
            [
             0.2,
             "#de77ae"
            ],
            [
             0.3,
             "#f1b6da"
            ],
            [
             0.4,
             "#fde0ef"
            ],
            [
             0.5,
             "#f7f7f7"
            ],
            [
             0.6,
             "#e6f5d0"
            ],
            [
             0.7,
             "#b8e186"
            ],
            [
             0.8,
             "#7fbc41"
            ],
            [
             0.9,
             "#4d9221"
            ],
            [
             1,
             "#276419"
            ]
           ],
           "sequential": [
            [
             0,
             "#0d0887"
            ],
            [
             0.1111111111111111,
             "#46039f"
            ],
            [
             0.2222222222222222,
             "#7201a8"
            ],
            [
             0.3333333333333333,
             "#9c179e"
            ],
            [
             0.4444444444444444,
             "#bd3786"
            ],
            [
             0.5555555555555556,
             "#d8576b"
            ],
            [
             0.6666666666666666,
             "#ed7953"
            ],
            [
             0.7777777777777778,
             "#fb9f3a"
            ],
            [
             0.8888888888888888,
             "#fdca26"
            ],
            [
             1,
             "#f0f921"
            ]
           ],
           "sequentialminus": [
            [
             0,
             "#0d0887"
            ],
            [
             0.1111111111111111,
             "#46039f"
            ],
            [
             0.2222222222222222,
             "#7201a8"
            ],
            [
             0.3333333333333333,
             "#9c179e"
            ],
            [
             0.4444444444444444,
             "#bd3786"
            ],
            [
             0.5555555555555556,
             "#d8576b"
            ],
            [
             0.6666666666666666,
             "#ed7953"
            ],
            [
             0.7777777777777778,
             "#fb9f3a"
            ],
            [
             0.8888888888888888,
             "#fdca26"
            ],
            [
             1,
             "#f0f921"
            ]
           ]
          },
          "colorway": [
           "#636efa",
           "#EF553B",
           "#00cc96",
           "#ab63fa",
           "#FFA15A",
           "#19d3f3",
           "#FF6692",
           "#B6E880",
           "#FF97FF",
           "#FECB52"
          ],
          "font": {
           "color": "#2a3f5f"
          },
          "geo": {
           "bgcolor": "white",
           "lakecolor": "white",
           "landcolor": "#E5ECF6",
           "showlakes": true,
           "showland": true,
           "subunitcolor": "white"
          },
          "hoverlabel": {
           "align": "left"
          },
          "hovermode": "closest",
          "mapbox": {
           "style": "light"
          },
          "paper_bgcolor": "white",
          "plot_bgcolor": "#E5ECF6",
          "polar": {
           "angularaxis": {
            "gridcolor": "white",
            "linecolor": "white",
            "ticks": ""
           },
           "bgcolor": "#E5ECF6",
           "radialaxis": {
            "gridcolor": "white",
            "linecolor": "white",
            "ticks": ""
           }
          },
          "scene": {
           "xaxis": {
            "backgroundcolor": "#E5ECF6",
            "gridcolor": "white",
            "gridwidth": 2,
            "linecolor": "white",
            "showbackground": true,
            "ticks": "",
            "zerolinecolor": "white"
           },
           "yaxis": {
            "backgroundcolor": "#E5ECF6",
            "gridcolor": "white",
            "gridwidth": 2,
            "linecolor": "white",
            "showbackground": true,
            "ticks": "",
            "zerolinecolor": "white"
           },
           "zaxis": {
            "backgroundcolor": "#E5ECF6",
            "gridcolor": "white",
            "gridwidth": 2,
            "linecolor": "white",
            "showbackground": true,
            "ticks": "",
            "zerolinecolor": "white"
           }
          },
          "shapedefaults": {
           "line": {
            "color": "#2a3f5f"
           }
          },
          "ternary": {
           "aaxis": {
            "gridcolor": "white",
            "linecolor": "white",
            "ticks": ""
           },
           "baxis": {
            "gridcolor": "white",
            "linecolor": "white",
            "ticks": ""
           },
           "bgcolor": "#E5ECF6",
           "caxis": {
            "gridcolor": "white",
            "linecolor": "white",
            "ticks": ""
           }
          },
          "title": {
           "x": 0.05
          },
          "xaxis": {
           "automargin": true,
           "gridcolor": "white",
           "linecolor": "white",
           "ticks": "",
           "title": {
            "standoff": 15
           },
           "zerolinecolor": "white",
           "zerolinewidth": 2
          },
          "yaxis": {
           "automargin": true,
           "gridcolor": "white",
           "linecolor": "white",
           "ticks": "",
           "title": {
            "standoff": 15
           },
           "zerolinecolor": "white",
           "zerolinewidth": 2
          }
         }
        },
        "title": {
         "text": "<b>Timeline of Iconic Movies</b>"
        },
        "xaxis": {
         "anchor": "y",
         "domain": [
          0,
          1
         ],
         "dtick": 10,
         "tick0": 1972,
         "tickmode": "linear",
         "title": {
          "text": "Release Year"
         }
        },
        "yaxis": {
         "anchor": "x",
         "domain": [
          0,
          1
         ],
         "title": {
          "text": "Movie Title"
         }
        }
       }
      }
     },
     "metadata": {},
     "output_type": "display_data"
    },
    {
     "name": "stdout",
     "output_type": "stream",
     "text": [
      "\u001b[36;1m\u001b[1;3mFigure({\n",
      "    'data': [{'customdata': array([['Francis Ford Coppola', 'Drama/Crime', 9.2]], dtype=object),\n",
      "              'hovertemplate': ('Genre=%{customdata[1]}<br>Rele' ... '{customdata[0]}<extra></extra>'),\n",
      "              'legendgroup': 'Drama/Crime',\n",
      "              'marker': {'color': '#636efa',\n",
      "                         'line': {'color': 'DarkSlateGrey', 'width': 2},\n",
      "                         'size': array([9.2]),\n",
      "                         'sizemode': 'area',\n",
      "                         'sizeref': 0.023,\n",
      "                         'symbol': 'circle'},\n",
      "              'mode': 'markers',\n",
      "              'name': 'Drama/Crime',\n",
      "              'orientation': 'h',\n",
      "              'showlegend': True,\n",
      "              'type': 'scatter',\n",
      "              'x': array([1972], dtype=int64),\n",
      "              'xaxis': 'x',\n",
      "              'y': array(['The Godfather'], dtype=object),\n",
      "              'yaxis': 'y'},\n",
      "             {'customdata': array([['Quentin Tarantino', 'Crime/Drama', 6.5]], dtype=object),\n",
      "              'hovertemplate': ('Genre=%{customdata[1]}<br>Rele' ... '{customdata[0]}<extra></extra>'),\n",
      "              'legendgroup': 'Crime/Drama',\n",
      "              'marker': {'color': '#EF553B',\n",
      "                         'line': {'color': 'DarkSlateGrey', 'width': 2},\n",
      "                         'size': array([6.5]),\n",
      "                         'sizemode': 'area',\n",
      "                         'sizeref': 0.023,\n",
      "                         'symbol': 'circle'},\n",
      "              'mode': 'markers',\n",
      "              'name': 'Crime/Drama',\n",
      "              'orientation': 'h',\n",
      "              'showlegend': True,\n",
      "              'type': 'scatter',\n",
      "              'x': array([1994], dtype=int64),\n",
      "              'xaxis': 'x',\n",
      "              'y': array(['Pulp Fiction'], dtype=object),\n",
      "              'yaxis': 'y'},\n",
      "             {'customdata': array([['Christopher Nolan', 'Science Fiction/Action', 8.0]], dtype=object),\n",
      "              'hovertemplate': ('Genre=%{customdata[1]}<br>Rele' ... '{customdata[0]}<extra></extra>'),\n",
      "              'legendgroup': 'Science Fiction/Action',\n",
      "              'marker': {'color': '#00cc96',\n",
      "                         'line': {'color': 'DarkSlateGrey', 'width': 2},\n",
      "                         'size': array([8.]),\n",
      "                         'sizemode': 'area',\n",
      "                         'sizeref': 0.023,\n",
      "                         'symbol': 'circle'},\n",
      "              'mode': 'markers',\n",
      "              'name': 'Science Fiction/Action',\n",
      "              'orientation': 'h',\n",
      "              'showlegend': True,\n",
      "              'type': 'scatter',\n",
      "              'x': array([2010], dtype=int64),\n",
      "              'xaxis': 'x',\n",
      "              'y': array(['Inception'], dtype=object),\n",
      "              'yaxis': 'y'},\n",
      "             {'customdata': array([['Peter Jackson', 'Fantasy/Adventure', 7.4]], dtype=object),\n",
      "              'hovertemplate': ('Genre=%{customdata[1]}<br>Rele' ... '{customdata[0]}<extra></extra>'),\n",
      "              'legendgroup': 'Fantasy/Adventure',\n",
      "              'marker': {'color': '#ab63fa',\n",
      "                         'line': {'color': 'DarkSlateGrey', 'width': 2},\n",
      "                         'size': array([7.4]),\n",
      "                         'sizemode': 'area',\n",
      "                         'sizeref': 0.023,\n",
      "                         'symbol': 'circle'},\n",
      "              'mode': 'markers',\n",
      "              'name': 'Fantasy/Adventure',\n",
      "              'orientation': 'h',\n",
      "              'showlegend': True,\n",
      "              'type': 'scatter',\n",
      "              'x': array([2001], dtype=int64),\n",
      "              'xaxis': 'x',\n",
      "              'y': array(['The Lord of the Rings: The Fellowship of the Ring'], dtype=object),\n",
      "              'yaxis': 'y'},\n",
      "             {'customdata': array([['Robert Zemeckis', 'Drama/Romance', 5.3]], dtype=object),\n",
      "              'hovertemplate': ('Genre=%{customdata[1]}<br>Rele' ... '{customdata[0]}<extra></extra>'),\n",
      "              'legendgroup': 'Drama/Romance',\n",
      "              'marker': {'color': '#FFA15A',\n",
      "                         'line': {'color': 'DarkSlateGrey', 'width': 2},\n",
      "                         'size': array([5.3]),\n",
      "                         'sizemode': 'area',\n",
      "                         'sizeref': 0.023,\n",
      "                         'symbol': 'circle'},\n",
      "              'mode': 'markers',\n",
      "              'name': 'Drama/Romance',\n",
      "              'orientation': 'h',\n",
      "              'showlegend': True,\n",
      "              'type': 'scatter',\n",
      "              'x': array([1994], dtype=int64),\n",
      "              'xaxis': 'x',\n",
      "              'y': array(['Forrest Gump'], dtype=object),\n",
      "              'yaxis': 'y'}],\n",
      "    'layout': {'legend': {'itemsizing': 'constant', 'title': {'text': 'Genre'}, 'tracegroupgap': 0},\n",
      "               'template': '...',\n",
      "               'title': {'text': '<b>Timeline of Iconic Movies</b>'},\n",
      "               'xaxis': {'anchor': 'y',\n",
      "                         'domain': [0.0, 1.0],\n",
      "                         'dtick': 10,\n",
      "                         'tick0': 1972,\n",
      "                         'tickmode': 'linear',\n",
      "                         'title': {'text': 'Release Year'}},\n",
      "               'yaxis': {'anchor': 'x', 'domain': [0.0, 1.0], 'title': {'text': 'Movie Title'}}}\n",
      "})\u001b[0m\u001b[32;1m\u001b[1;3mHere is the timeline visualization of iconic movies, plotted by their release year. Each movie is represented by a dot, where the size of the dot corresponds to the movie's rating, and the color represents the genre. Hovering over each dot will display more details such as the director, genre, and rating.\n",
      "\n",
      "```python\n",
      "import plotly.express as px\n",
      "import pandas as pd\n",
      "\n",
      "df = pd.DataFrame({\n",
      "    'Title': ['The Godfather', 'Pulp Fiction', 'Inception', 'The Lord of the Rings: The Fellowship of the Ring', 'Forrest Gump'],\n",
      "    'Director': ['Francis Ford Coppola', 'Quentin Tarantino', 'Christopher Nolan', 'Peter Jackson', 'Robert Zemeckis'],\n",
      "    'Release Year': [1972, 1994, 2010, 2001, 1994],\n",
      "    'Genre': ['Drama/Crime', 'Crime/Drama', 'Science Fiction/Action', 'Fantasy/Adventure', 'Drama/Romance'],\n",
      "    'Rating': [9.2, 6.5, 8.0, 7.4, 5.3]\n",
      "})\n",
      "\n",
      "fig = px.scatter(df, x='Release Year', y='Title', color='Genre', size='Rating', hover_data=['Director', 'Genre', 'Rating'], title='<b>Timeline of Iconic Movies</b>')\n",
      "fig.update_traces(marker=dict(line=dict(width=2, color='DarkSlateGrey')))\n",
      "fig.update_layout(xaxis_title='Release Year', yaxis_title='Movie Title', xaxis=dict(tickmode='linear', tick0=df['Release Year'].min(), dtick=10))\n",
      "fig.show()\n",
      "```\u001b[0m\n",
      "\n",
      "\u001b[1m> Finished chain.\u001b[0m\n"
     ]
    }
   ],
   "source": [
    "prompt = f'Create a timeline visualization with the following data: {data}'\n",
    "plotly_response = plotly_agent.invoke({'input': prompt})"
   ]
  }
 ],
 "metadata": {
  "kernelspec": {
   "display_name": "plotly-agent-GMeVXAho-py3.12",
   "language": "python",
   "name": "python3"
  },
  "language_info": {
   "codemirror_mode": {
    "name": "ipython",
    "version": 3
   },
   "file_extension": ".py",
   "mimetype": "text/x-python",
   "name": "python",
   "nbconvert_exporter": "python",
   "pygments_lexer": "ipython3",
   "version": "3.12.4"
  }
 },
 "nbformat": 4,
 "nbformat_minor": 2
}
